{
 "cells": [
  {
   "cell_type": "code",
   "execution_count": null,
   "id": "58369317",
   "metadata": {
    "scrolled": false
   },
   "outputs": [],
   "source": [
    "import pandas as pd\n",
    "\n",
    "# Daten importieren\n",
    "try:\n",
    "    kunden_df = pd.read_csv('kunden.csv', delimiter='\\t')\n",
    "    besucher_df = pd.read_csv('besucher.csv', delimiter='\\t')\n",
    "    geo_df = pd.read_csv('geo.txt', delimiter='\\t', header=None, names=['KundeNr', 'Niederlassung'])\n",
    "\n",
    "    # Erste Inspektion der Daten\n",
    "    print(\"Kunden Daten:\")\n",
    "    print(kunden_df.head())\n",
    "    \n",
    "    print(\"\\nBesucher Daten:\")\n",
    "    print(besucher_df.head())\n",
    "    \n",
    "    print(\"\\nGeodaten:\")\n",
    "    print(geo_df.head())\n",
    "\n",
    "    # Überprüfen auf NaN-Werte\n",
    "    print(\"\\nÜberprüfung auf NaN-Werte:\")\n",
    "    print(geo_df.isna().sum())\n",
    "    \n",
    "    # Anzeigen der einzigartigen Werte in der Spalte 'Niederlassung'\n",
    "    print(\"\\nEinzigartige Werte in der Spalte 'Niederlassung':\")\n",
    "    print(geo_df['Niederlassung'].unique())\n",
    "\n",
    "except FileNotFoundError as e:\n",
    "    print(f\"Datei nicht gefunden: {e}\")\n",
    "except Exception as e:\n",
    "    print(f\"Ein Fehler ist aufgetreten: {e}\")"
   ]
  },
  {
   "cell_type": "code",
   "execution_count": null,
   "id": "716e8ebd",
   "metadata": {},
   "outputs": [],
   "source": []
  },
  {
   "cell_type": "code",
   "execution_count": null,
   "id": "5e42cb34",
   "metadata": {},
   "outputs": [],
   "source": [
    "import pandas as pd\n",
    "\n",
    "# Daten einlesen\n",
    "geo_df = pd.read_csv('geo.txt', delimiter='\\t')\n",
    "\n",
    "# Bereinigung der Spalte 'Niederlassung'\n",
    "geo_df['Niederlassung'] = geo_df['Niederlassung'].replace({\n",
    "    'Nordrhein-Westfalen': 'NRW',\n",
    "    'Baden-Wurttemberg': 'Baden-Württemberg',\n",
    "    'Niedersachsen ': 'Niedersachsen',  # Beachten Sie das Leerzeichen\n",
    "    'Hesse': 'Hessen',\n",
    "    # Weitere Hinsetzungen können hinzugefügt werden\n",
    "})\n",
    "\n",
    "# Entfernen von führenden und nachfolgenden Leerzeichen in der Spalte 'Niederlassung'\n",
    "geo_df['Niederlassung'] = geo_df['Niederlassung'].str.strip()\n",
    "\n",
    "# Einzigartige Werte in der Spalte 'Niederlassung' ohne die Spaltenüberschrift 'Niederlassung'\n",
    "einzigartige_werte = geo_df['Niederlassung'].unique()\n",
    "\n",
    "print(\"Einzigartige Werte in der Spalte 'Niederlassung' nach Bereinigung:\")\n",
    "for wert in einzigartige_werte:\n",
    "    print(wert)\n"
   ]
  },
  {
   "cell_type": "code",
   "execution_count": 45,
   "id": "850e0b75",
   "metadata": {
    "scrolled": true
   },
   "outputs": [
    {
     "name": "stdout",
     "output_type": "stream",
     "text": [
      "Zusammengeführte Kundendaten:\n",
      "      Alter  Einkommen      Preis  Geschlecht  Zeit KundeNr      Niederlassung\n",
      "0        64    66894.0   88160.31         1.0  43.0   K0310             Bayern\n",
      "1        54    77644.0  103145.70         1.0  40.0   K1042             Berlin\n",
      "2        55    44341.0   80565.16         0.0  37.0   K0382  Baden-Württemberg\n",
      "3        49    67271.0   83949.89         0.0  42.0   K0498             Bayern\n",
      "4        46    49832.0   93781.58         0.0  41.0   K0552             Hessen\n",
      "...     ...        ...        ...         ...   ...     ...                ...\n",
      "1099     70    69581.0  103751.58         1.0  51.0   K0467          Thüringen\n",
      "1100     38    48301.0   64230.98         1.0  33.0   K0122      Niedersachsen\n",
      "1101     67    63547.0  103123.57         1.0  41.0   K1045             Berlin\n",
      "1102     37    32686.0   49215.87         1.0  36.0   K1096  Baden-Württemberg\n",
      "1103     55    71240.0  106132.59         1.0  49.0   K0861             Bayern\n",
      "\n",
      "[1104 rows x 7 columns]\n",
      "\n",
      "Zusammengeführte Besucherdaten:\n",
      "     Alter           Einkommen  Geschlecht  Zeit KundeNr        Niederlassung\n",
      "0       30    39919,0953348874           0  29,0   K1814               Bayern\n",
      "1       41   53430,67308587748           0  27,0   K1544    Baden-Württemberg\n",
      "2       64    73163,2169267002           0  32,0   K1945    Baden-Württemberg\n",
      "3       41  36761,482581315344           0  44,0   K1825    Baden-Württemberg\n",
      "4       35   42684,33163178136           1  33,0   K1144  Nordrhein-Westfalen\n",
      "..     ...                 ...         ...   ...     ...                  ...\n",
      "886     32   34391,82496545645           1  48,0   K1211               Hessen\n",
      "887     41   68516,49543941053           0  34,0   K1375              Sachsen\n",
      "888     65   89685,33344089528           0  23,0   K1965               Bayern\n",
      "889     68   95714,30526812703           0  32,0   K1540               Bayern\n",
      "890     49    73319,1870845747           0  27,0   K1207        Niedersachsen\n",
      "\n",
      "[891 rows x 6 columns]\n"
     ]
    }
   ],
   "source": [
    "# Zusammenführen der Kundendaten mit den geografischen Daten basierend auf der Händler-ID\n",
    "besucher = pd.read_csv('besucher.csv', delimiter=';')\n",
    "kunden =  pd.read_csv('kunden.csv', delimiter=';')\n",
    "geo = pd.read_csv('geo.txt',delimiter='\\t')\n",
    "\n",
    "kunden_merged = kunden.merge(geo, on='KundeNr', how='inner')\n",
    "\n",
    "\n",
    "# Zusammenführen der Besucherdaten mit den geografischen Daten basierend auf der Hleft_on='haendler_id', right_on='KundeNr')\n",
    "besucher_merged = besucher.merge(geo, on='KundeNr', how='inner')\n",
    "\n",
    "\n",
    "# Überprüfen der ersten Zeilen der zusammengeführten Daten, um sicherzustellen, dass die Fusion erfolgreich war\n",
    "print(\"Zusammengeführte Kundendaten:\")\n",
    "print(kunden_merged)\n",
    "\n",
    "print(\"\\nZusammengeführte Besucherdaten:\")\n",
    "print(besucher_merged)"
   ]
  },
  {
   "cell_type": "code",
   "execution_count": null,
   "id": "e8a633f8",
   "metadata": {},
   "outputs": [],
   "source": []
  }
 ],
 "metadata": {
  "kernelspec": {
   "display_name": "Python 3 (ipykernel)",
   "language": "python",
   "name": "python3"
  },
  "language_info": {
   "codemirror_mode": {
    "name": "ipython",
    "version": 3
   },
   "file_extension": ".py",
   "mimetype": "text/x-python",
   "name": "python",
   "nbconvert_exporter": "python",
   "pygments_lexer": "ipython3",
   "version": "3.11.5"
  }
 },
 "nbformat": 4,
 "nbformat_minor": 5
}
